{
 "cells": [
  {
   "cell_type": "markdown",
   "metadata": {},
   "source": [
    "# Pipeline overview:\n",
    "1. **Find a query protein in the orthoDB database** (retrieve the corresponding orthoDB ID)\n",
    "   - you can find a protein by looking up its uniprot ID in the orthoDB database. You can also set the orthoDB ID manually if you already know it. \n",
    "   - *Note: If it can't find an orthoDB ID for a given UniprotID, it doesn't mean that the protein is absent from the orthoDB. It could still be present but was retrieved from a different database and a uniprot ID was not mapped to it. View OrthoDB documentation for more info on where the sequences come from. I have not solved this problem. In the future, it would be nice to develop a way to search for the actual full length sequence using blast or something, if it fails to find the uniprot ID*\n",
    "2. **Retrieve the orthoDB-defined groups of homologous sequences** (orthogroup IDs) containing the query protein\n",
    "3. **Select a group based on phylogenetic level**\n",
    "4. **Filter** out sequences in the group that are too short (relative to the length of the query sequence) or that contain non amino acid characters\n",
    "5. **Filter to least divergent orthologs (LDOs)**:\n",
    "   - For each organism in the group, select the sequence that is most similar to the query sequence such that there is only one sequence per organism\n",
    "6. **Cluster the filtered LDOs using CD-HIT**\n",
    "7. **Align the clustered sequences** (uses MAFFT by default)\n",
    "8. **output** the alignment and the ortholog group information in a directory structure that is compatible with the conservation analysis pipeline (link)\n",
    "    - the group information is output in the form of a json file that can be imported as a python object (see `./examples/` for examples of how to use the object)\n"
   ]
  },
  {
   "cell_type": "markdown",
   "metadata": {},
   "source": [
    "---"
   ]
  },
  {
   "cell_type": "markdown",
   "metadata": {},
   "source": [
    "Here we will go through each step and explain what the pipeline does. <br>\n",
    "You don't have to worry about using any of this code directly, since you should be able to just run the script but it might be useful to understand what is going on under the hood if you want to write your own script.<br>\n",
    "There main script in `../orthoDB_construct_groups_for_all_human_genes/` combines all of the steps in a single script, using a configuration file to specify all of the parameters.<br>\n",
    "This notebook will explain what each of the parameters does?"
   ]
  },
  {
   "cell_type": "markdown",
   "metadata": {},
   "source": [
    "# imports"
   ]
  },
  {
   "cell_type": "code",
   "execution_count": 3,
   "metadata": {},
   "outputs": [],
   "source": [
    "import pandas as pd\n",
    "import local_env_variables.env_variables as env\n",
    "import local_orthoDB_group_tools.sql_queries as sql_queries\n",
    "import local_orthoDB_group_tools.uniprotid_search as uniprotid_search\n",
    "\n",
    "%load_ext autoreload\n",
    "%autoreload 2"
   ]
  },
  {
   "cell_type": "markdown",
   "metadata": {},
   "source": [
    "# 1. find a query protein in the orthoDB database"
   ]
  },
  {
   "cell_type": "markdown",
   "metadata": {},
   "source": [
    "## search for the uniprot id: Q8TC90"
   ]
  },
  {
   "cell_type": "code",
   "execution_count": 4,
   "metadata": {},
   "outputs": [
    {
     "name": "stdout",
     "output_type": "stream",
     "text": [
      "9606_0:002f40\n"
     ]
    }
   ],
   "source": [
    "uniprot_id = 'Q8TC90'\n",
    "print(uniprotid_search.uniprotid_2_odb_gene_id(uniprot_id))\n",
    "odb_gene_id = uniprotid_search.uniprotid_2_odb_gene_id(uniprot_id)"
   ]
  },
  {
   "cell_type": "markdown",
   "metadata": {},
   "source": [
    "## get the ortholog groups (og_ids) that contain the query protein"
   ]
  },
  {
   "cell_type": "code",
   "execution_count": 5,
   "metadata": {},
   "outputs": [
    {
     "name": "stdout",
     "output_type": "stream",
     "text": [
      "['96736at314146', '351562at32523', '4642869at2759', '869863at7742', '18706at314295', '96736at9443', '1771281at33208', '622381at9347', '18706at9604', '21856at40674']\n"
     ]
    }
   ],
   "source": [
    "og_ids = sql_queries.odb_gene_id_2_ogid_list(odb_gene_id)\n",
    "print(og_ids)"
   ]
  },
  {
   "cell_type": "code",
   "execution_count": 6,
   "metadata": {},
   "outputs": [
    {
     "data": {
      "text/html": [
       "<div>\n",
       "<style scoped>\n",
       "    .dataframe tbody tr th:only-of-type {\n",
       "        vertical-align: middle;\n",
       "    }\n",
       "\n",
       "    .dataframe tbody tr th {\n",
       "        vertical-align: top;\n",
       "    }\n",
       "\n",
       "    .dataframe thead th {\n",
       "        text-align: right;\n",
       "    }\n",
       "</style>\n",
       "<table border=\"1\" class=\"dataframe\">\n",
       "  <thead>\n",
       "    <tr style=\"text-align: right;\">\n",
       "      <th></th>\n",
       "      <th>OG id</th>\n",
       "      <th>level NCBI tax id</th>\n",
       "      <th>level name</th>\n",
       "      <th>total non-redundant count of species underneath</th>\n",
       "      <th>OG name</th>\n",
       "    </tr>\n",
       "  </thead>\n",
       "  <tbody>\n",
       "    <tr>\n",
       "      <th>8</th>\n",
       "      <td>18706at9604</td>\n",
       "      <td>9604</td>\n",
       "      <td>Hominidae</td>\n",
       "      <td>5.0</td>\n",
       "      <td>Coiled-coil domain-containing glutamate-rich p...</td>\n",
       "    </tr>\n",
       "    <tr>\n",
       "      <th>4</th>\n",
       "      <td>18706at314295</td>\n",
       "      <td>314295</td>\n",
       "      <td>Hominoidea</td>\n",
       "      <td>7.0</td>\n",
       "      <td>Coiled-coil domain-containing glutamate-rich p...</td>\n",
       "    </tr>\n",
       "    <tr>\n",
       "      <th>5</th>\n",
       "      <td>96736at9443</td>\n",
       "      <td>9443</td>\n",
       "      <td>Primates</td>\n",
       "      <td>30.0</td>\n",
       "      <td>coiled-coil glutamate rich protein 1</td>\n",
       "    </tr>\n",
       "    <tr>\n",
       "      <th>0</th>\n",
       "      <td>96736at314146</td>\n",
       "      <td>314146</td>\n",
       "      <td>Euarchontoglires</td>\n",
       "      <td>70.0</td>\n",
       "      <td>coiled-coil glutamate rich protein 1</td>\n",
       "    </tr>\n",
       "    <tr>\n",
       "      <th>7</th>\n",
       "      <td>622381at9347</td>\n",
       "      <td>9347</td>\n",
       "      <td>Eutheria</td>\n",
       "      <td>182.0</td>\n",
       "      <td>coiled-coil glutamate rich protein 1</td>\n",
       "    </tr>\n",
       "    <tr>\n",
       "      <th>9</th>\n",
       "      <td>21856at40674</td>\n",
       "      <td>40674</td>\n",
       "      <td>Mammalia</td>\n",
       "      <td>191.0</td>\n",
       "      <td>coiled-coil glutamate rich protein 1</td>\n",
       "    </tr>\n",
       "    <tr>\n",
       "      <th>1</th>\n",
       "      <td>351562at32523</td>\n",
       "      <td>32523</td>\n",
       "      <td>Tetrapoda</td>\n",
       "      <td>325.0</td>\n",
       "      <td>coiled-coil glutamate rich protein 1</td>\n",
       "    </tr>\n",
       "    <tr>\n",
       "      <th>3</th>\n",
       "      <td>869863at7742</td>\n",
       "      <td>7742</td>\n",
       "      <td>Vertebrata</td>\n",
       "      <td>470.0</td>\n",
       "      <td>coiled-coil glutamate rich protein 1</td>\n",
       "    </tr>\n",
       "    <tr>\n",
       "      <th>6</th>\n",
       "      <td>1771281at33208</td>\n",
       "      <td>33208</td>\n",
       "      <td>Metazoa</td>\n",
       "      <td>817.0</td>\n",
       "      <td>coiled-coil glutamate rich protein 1</td>\n",
       "    </tr>\n",
       "    <tr>\n",
       "      <th>2</th>\n",
       "      <td>4642869at2759</td>\n",
       "      <td>2759</td>\n",
       "      <td>Eukaryota</td>\n",
       "      <td>1952.0</td>\n",
       "      <td>coiled-coil glutamate rich protein 1</td>\n",
       "    </tr>\n",
       "  </tbody>\n",
       "</table>\n",
       "</div>"
      ],
      "text/plain": [
       "            OG id  level NCBI tax id        level name  \\\n",
       "8     18706at9604               9604         Hominidae   \n",
       "4   18706at314295             314295        Hominoidea   \n",
       "5     96736at9443               9443          Primates   \n",
       "0   96736at314146             314146  Euarchontoglires   \n",
       "7    622381at9347               9347          Eutheria   \n",
       "9    21856at40674              40674          Mammalia   \n",
       "1   351562at32523              32523         Tetrapoda   \n",
       "3    869863at7742               7742        Vertebrata   \n",
       "6  1771281at33208              33208           Metazoa   \n",
       "2   4642869at2759               2759         Eukaryota   \n",
       "\n",
       "   total non-redundant count of species underneath  \\\n",
       "8                                              5.0   \n",
       "4                                              7.0   \n",
       "5                                             30.0   \n",
       "0                                             70.0   \n",
       "7                                            182.0   \n",
       "9                                            191.0   \n",
       "1                                            325.0   \n",
       "3                                            470.0   \n",
       "6                                            817.0   \n",
       "2                                           1952.0   \n",
       "\n",
       "                                             OG name  \n",
       "8  Coiled-coil domain-containing glutamate-rich p...  \n",
       "4  Coiled-coil domain-containing glutamate-rich p...  \n",
       "5              coiled-coil glutamate rich protein 1   \n",
       "0              coiled-coil glutamate rich protein 1   \n",
       "7              coiled-coil glutamate rich protein 1   \n",
       "9              coiled-coil glutamate rich protein 1   \n",
       "1              coiled-coil glutamate rich protein 1   \n",
       "3              coiled-coil glutamate rich protein 1   \n",
       "6              coiled-coil glutamate rich protein 1   \n",
       "2              coiled-coil glutamate rich protein 1   "
      ]
     },
     "execution_count": 6,
     "metadata": {},
     "output_type": "execute_result"
    }
   ],
   "source": [
    "# og_id information\n",
    "sql_queries.ogid_list_2_og_info_df(og_ids)"
   ]
  },
  {
   "cell_type": "code",
   "execution_count": null,
   "metadata": {},
   "outputs": [],
   "source": []
  }
 ],
 "metadata": {
  "kernelspec": {
   "display_name": "odb_groups_x86",
   "language": "python",
   "name": "python3"
  },
  "language_info": {
   "codemirror_mode": {
    "name": "ipython",
    "version": 3
   },
   "file_extension": ".py",
   "mimetype": "text/x-python",
   "name": "python",
   "nbconvert_exporter": "python",
   "pygments_lexer": "ipython3",
   "version": "3.12.0"
  }
 },
 "nbformat": 4,
 "nbformat_minor": 2
}
