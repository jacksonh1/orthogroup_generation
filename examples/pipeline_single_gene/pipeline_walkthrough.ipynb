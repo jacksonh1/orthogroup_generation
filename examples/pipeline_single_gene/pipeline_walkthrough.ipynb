{
 "cells": [
  {
   "cell_type": "markdown",
   "metadata": {},
   "source": [
    "# Pipeline overview:\n",
    "1. **Find a query protein in the orthoDB database** (retrieve the corresponding orthoDB ID)\n",
    "   - you can find a protein by looking up its uniprot ID in the orthoDB database. You can also set the orthoDB ID manually if you already know it. \n",
    "   - *Note: If it can't find an orthoDB ID for a given UniprotID, it doesn't mean that the protein is absent from the orthoDB. It could still be present but was retrieved from a different database and a uniprot ID was not mapped to it. View OrthoDB documentation for more info on where the sequences come from. I have not solved this problem. In the future, it would be nice to develop a way to search for the actual full length sequence using blast or something, if it fails to find the uniprot ID*\n",
    "2. **Retrieve the orthoDB-defined groups of homologous sequences** (orthogroup IDs) containing the query protein\n",
    "3. **Select a group based on phylogenetic level**\n",
    "4. **Filter** out sequences in the group that are too short (relative to the length of the query sequence) or that contain non amino acid characters\n",
    "5. **Filter to least divergent orthologs (LDOs)**:\n",
    "   - For each organism in the group, select the sequence that is most similar to the query sequence such that there is only one sequence per organism\n",
    "6. **Cluster the filtered LDOs using CD-HIT**\n",
    "7. **Align the clustered sequences** (uses MAFFT by default)\n",
    "8. **output** the alignment and the ortholog group information in a directory structure that is compatible with the conservation analysis pipeline (link)\n",
    "    - the group information is output in the form of a json file that can be imported as a python object (see `./examples/` for examples of how to use the object)\n"
   ]
  },
  {
   "cell_type": "markdown",
   "metadata": {},
   "source": [
    "---"
   ]
  },
  {
   "cell_type": "markdown",
   "metadata": {},
   "source": [
    "Here we will go through each step and explain what the pipeline does. <br>\n",
    "You don't have to worry about using any of this code directly, since you should be able to just run the script but it might be useful to understand what is going on under the hood if you want to write your own script.<br>\n",
    "There main script in `../orthoDB_construct_groups_for_all_human_genes/` combines all of the steps in a single script, using a configuration file to specify all of the parameters.<br>\n",
    "This notebook will explain what each of the parameters does?"
   ]
  },
  {
   "cell_type": "markdown",
   "metadata": {},
   "source": [
    "# imports"
   ]
  },
  {
   "cell_type": "code",
   "execution_count": 1,
   "metadata": {},
   "outputs": [],
   "source": [
    "import pandas as pd\n",
    "import local_env_variables.env_variables as env\n",
    "import local_orthoDB_group_tools.sql_queries as sql_queries\n",
    "import local_orthoDB_group_tools.uniprotid_search as uniprotid_search\n",
    "import local_orthoDB_group_tools.database_queries as db_queries\n",
    "\n",
    "%load_ext autoreload\n",
    "%autoreload 2"
   ]
  },
  {
   "cell_type": "markdown",
   "metadata": {},
   "source": [
    "# Run parameters"
   ]
  },
  {
   "cell_type": "code",
   "execution_count": 2,
   "metadata": {},
   "outputs": [],
   "source": [
    "min_fraction_of_query_length = 0.5\n",
    "level='Vertebrata'\n",
    "LDO_selection_method = 'alfpy_google_distance'"
   ]
  },
  {
   "cell_type": "markdown",
   "metadata": {},
   "source": [
    "# 1. find a query protein in the orthoDB database"
   ]
  },
  {
   "cell_type": "markdown",
   "metadata": {},
   "source": [
    "## search for the uniprot id: Q8TC90"
   ]
  },
  {
   "cell_type": "code",
   "execution_count": 3,
   "metadata": {},
   "outputs": [
    {
     "name": "stdout",
     "output_type": "stream",
     "text": [
      "9606_0:002f40\n"
     ]
    }
   ],
   "source": [
    "uniprot_id = 'Q8TC90'\n",
    "print(uniprotid_search.uniprotid_2_odb_gene_id(uniprot_id))\n",
    "odb_gene_id = uniprotid_search.uniprotid_2_odb_gene_id(uniprot_id)"
   ]
  },
  {
   "cell_type": "markdown",
   "metadata": {},
   "source": [
    "# 2. get the ortholog groups (og_ids) that contain the query protein"
   ]
  },
  {
   "cell_type": "code",
   "execution_count": 4,
   "metadata": {},
   "outputs": [
    {
     "name": "stdout",
     "output_type": "stream",
     "text": [
      "['96736at9443', '1771281at33208', '869863at7742', '622381at9347', '18706at9604', '4642869at2759', '351562at32523', '21856at40674', '18706at314295', '96736at314146']\n"
     ]
    }
   ],
   "source": [
    "og_ids = sql_queries.odb_gene_id_2_ogid_list(odb_gene_id)\n",
    "print(og_ids)"
   ]
  },
  {
   "cell_type": "code",
   "execution_count": 5,
   "metadata": {},
   "outputs": [
    {
     "data": {
      "text/html": [
       "<div>\n",
       "<style scoped>\n",
       "    .dataframe tbody tr th:only-of-type {\n",
       "        vertical-align: middle;\n",
       "    }\n",
       "\n",
       "    .dataframe tbody tr th {\n",
       "        vertical-align: top;\n",
       "    }\n",
       "\n",
       "    .dataframe thead th {\n",
       "        text-align: right;\n",
       "    }\n",
       "</style>\n",
       "<table border=\"1\" class=\"dataframe\">\n",
       "  <thead>\n",
       "    <tr style=\"text-align: right;\">\n",
       "      <th></th>\n",
       "      <th>OG id</th>\n",
       "      <th>level NCBI tax id</th>\n",
       "      <th>level name</th>\n",
       "      <th>total non-redundant count of species underneath</th>\n",
       "      <th>OG name</th>\n",
       "    </tr>\n",
       "  </thead>\n",
       "  <tbody>\n",
       "    <tr>\n",
       "      <th>4</th>\n",
       "      <td>18706at9604</td>\n",
       "      <td>9604</td>\n",
       "      <td>Hominidae</td>\n",
       "      <td>5</td>\n",
       "      <td>Coiled-coil domain-containing glutamate-rich p...</td>\n",
       "    </tr>\n",
       "    <tr>\n",
       "      <th>8</th>\n",
       "      <td>18706at314295</td>\n",
       "      <td>314295</td>\n",
       "      <td>Hominoidea</td>\n",
       "      <td>7</td>\n",
       "      <td>Coiled-coil domain-containing glutamate-rich p...</td>\n",
       "    </tr>\n",
       "    <tr>\n",
       "      <th>0</th>\n",
       "      <td>96736at9443</td>\n",
       "      <td>9443</td>\n",
       "      <td>Primates</td>\n",
       "      <td>30</td>\n",
       "      <td>coiled-coil glutamate rich protein 1</td>\n",
       "    </tr>\n",
       "    <tr>\n",
       "      <th>9</th>\n",
       "      <td>96736at314146</td>\n",
       "      <td>314146</td>\n",
       "      <td>Euarchontoglires</td>\n",
       "      <td>70</td>\n",
       "      <td>coiled-coil glutamate rich protein 1</td>\n",
       "    </tr>\n",
       "    <tr>\n",
       "      <th>3</th>\n",
       "      <td>622381at9347</td>\n",
       "      <td>9347</td>\n",
       "      <td>Eutheria</td>\n",
       "      <td>182</td>\n",
       "      <td>coiled-coil glutamate rich protein 1</td>\n",
       "    </tr>\n",
       "    <tr>\n",
       "      <th>7</th>\n",
       "      <td>21856at40674</td>\n",
       "      <td>40674</td>\n",
       "      <td>Mammalia</td>\n",
       "      <td>191</td>\n",
       "      <td>coiled-coil glutamate rich protein 1</td>\n",
       "    </tr>\n",
       "    <tr>\n",
       "      <th>6</th>\n",
       "      <td>351562at32523</td>\n",
       "      <td>32523</td>\n",
       "      <td>Tetrapoda</td>\n",
       "      <td>325</td>\n",
       "      <td>coiled-coil glutamate rich protein 1</td>\n",
       "    </tr>\n",
       "    <tr>\n",
       "      <th>2</th>\n",
       "      <td>869863at7742</td>\n",
       "      <td>7742</td>\n",
       "      <td>Vertebrata</td>\n",
       "      <td>470</td>\n",
       "      <td>coiled-coil glutamate rich protein 1</td>\n",
       "    </tr>\n",
       "    <tr>\n",
       "      <th>1</th>\n",
       "      <td>1771281at33208</td>\n",
       "      <td>33208</td>\n",
       "      <td>Metazoa</td>\n",
       "      <td>817</td>\n",
       "      <td>coiled-coil glutamate rich protein 1</td>\n",
       "    </tr>\n",
       "    <tr>\n",
       "      <th>5</th>\n",
       "      <td>4642869at2759</td>\n",
       "      <td>2759</td>\n",
       "      <td>Eukaryota</td>\n",
       "      <td>1952</td>\n",
       "      <td>coiled-coil glutamate rich protein 1</td>\n",
       "    </tr>\n",
       "  </tbody>\n",
       "</table>\n",
       "</div>"
      ],
      "text/plain": [
       "            OG id  level NCBI tax id        level name  \\\n",
       "4     18706at9604               9604         Hominidae   \n",
       "8   18706at314295             314295        Hominoidea   \n",
       "0     96736at9443               9443          Primates   \n",
       "9   96736at314146             314146  Euarchontoglires   \n",
       "3    622381at9347               9347          Eutheria   \n",
       "7    21856at40674              40674          Mammalia   \n",
       "6   351562at32523              32523         Tetrapoda   \n",
       "2    869863at7742               7742        Vertebrata   \n",
       "1  1771281at33208              33208           Metazoa   \n",
       "5   4642869at2759               2759         Eukaryota   \n",
       "\n",
       "   total non-redundant count of species underneath  \\\n",
       "4                                                5   \n",
       "8                                                7   \n",
       "0                                               30   \n",
       "9                                               70   \n",
       "3                                              182   \n",
       "7                                              191   \n",
       "6                                              325   \n",
       "2                                              470   \n",
       "1                                              817   \n",
       "5                                             1952   \n",
       "\n",
       "                                             OG name  \n",
       "4  Coiled-coil domain-containing glutamate-rich p...  \n",
       "8  Coiled-coil domain-containing glutamate-rich p...  \n",
       "0              coiled-coil glutamate rich protein 1   \n",
       "9              coiled-coil glutamate rich protein 1   \n",
       "3              coiled-coil glutamate rich protein 1   \n",
       "7              coiled-coil glutamate rich protein 1   \n",
       "6              coiled-coil glutamate rich protein 1   \n",
       "2              coiled-coil glutamate rich protein 1   \n",
       "1              coiled-coil glutamate rich protein 1   \n",
       "5              coiled-coil glutamate rich protein 1   "
      ]
     },
     "execution_count": 5,
     "metadata": {},
     "output_type": "execute_result"
    }
   ],
   "source": [
    "# og_id information\n",
    "db_queries.get_available_ogs(odb_gene_id)"
   ]
  },
  {
   "cell_type": "markdown",
   "metadata": {},
   "source": [
    "# 3. select a group and retrieve the sequences"
   ]
  },
  {
   "cell_type": "markdown",
   "metadata": {},
   "source": [
    "## let's select the 'Vertebrata' group"
   ]
  },
  {
   "cell_type": "code",
   "execution_count": 6,
   "metadata": {},
   "outputs": [
    {
     "name": "stdout",
     "output_type": "stream",
     "text": [
      "869863at7742\n"
     ]
    }
   ],
   "source": [
    "ogid = db_queries.select_OG_by_level_name(odb_gene_id=odb_gene_id, level_name='Vertebrata')\n",
    "print(ogid)"
   ]
  },
  {
   "cell_type": "code",
   "execution_count": 7,
   "metadata": {},
   "outputs": [
    {
     "ename": "ValueError",
     "evalue": "No OGs found for 9606_0:002f40 with level name `Bacteria`. available levels are: ['Hominidae', 'Hominoidea', 'Primates', 'Euarchontoglires', 'Eutheria', 'Mammalia', 'Tetrapoda', 'Vertebrata', 'Metazoa', 'Eukaryota']",
     "output_type": "error",
     "traceback": [
      "\u001b[0;31m---------------------------------------------------------------------------\u001b[0m",
      "\u001b[0;31mValueError\u001b[0m                                Traceback (most recent call last)",
      "Cell \u001b[0;32mIn[7], line 2\u001b[0m\n\u001b[1;32m      1\u001b[0m \u001b[38;5;66;03m# if we provide a level name that isn't found in the database, we get an error\u001b[39;00m\n\u001b[0;32m----> 2\u001b[0m \u001b[43mdb_queries\u001b[49m\u001b[38;5;241;43m.\u001b[39;49m\u001b[43mselect_OG_by_level_name\u001b[49m\u001b[43m(\u001b[49m\u001b[43modb_gene_id\u001b[49m\u001b[38;5;241;43m=\u001b[39;49m\u001b[43modb_gene_id\u001b[49m\u001b[43m,\u001b[49m\u001b[43m \u001b[49m\u001b[43mlevel_name\u001b[49m\u001b[38;5;241;43m=\u001b[39;49m\u001b[38;5;124;43m'\u001b[39;49m\u001b[38;5;124;43mBacteria\u001b[39;49m\u001b[38;5;124;43m'\u001b[39;49m\u001b[43m)\u001b[49m\n",
      "File \u001b[0;32m~/Dropbox (MIT)/work/07-SLiM_bioinformatics/04-orthoDB_local_orthogroup_creation/src/local_orthoDB_group_tools/database_queries.py:88\u001b[0m, in \u001b[0;36mselect_OG_by_level_name\u001b[0;34m(odb_gene_id, level_name)\u001b[0m\n\u001b[1;32m     86\u001b[0m selected_OG_info_df \u001b[38;5;241m=\u001b[39m ogs_info_df[ogs_info_df[\u001b[38;5;124m\"\u001b[39m\u001b[38;5;124mlevel name\u001b[39m\u001b[38;5;124m\"\u001b[39m] \u001b[38;5;241m==\u001b[39m level_name]\n\u001b[1;32m     87\u001b[0m \u001b[38;5;28;01mif\u001b[39;00m \u001b[38;5;28mlen\u001b[39m(selected_OG_info_df) \u001b[38;5;241m==\u001b[39m \u001b[38;5;241m0\u001b[39m:\n\u001b[0;32m---> 88\u001b[0m     \u001b[38;5;28;01mraise\u001b[39;00m \u001b[38;5;167;01mValueError\u001b[39;00m(\n\u001b[1;32m     89\u001b[0m         \u001b[38;5;124mf\u001b[39m\u001b[38;5;124m\"\u001b[39m\u001b[38;5;124mNo OGs found for \u001b[39m\u001b[38;5;132;01m{\u001b[39;00modb_gene_id\u001b[38;5;132;01m}\u001b[39;00m\u001b[38;5;124m with level name `\u001b[39m\u001b[38;5;132;01m{\u001b[39;00mlevel_name\u001b[38;5;132;01m}\u001b[39;00m\u001b[38;5;124m`. available levels are: \u001b[39m\u001b[38;5;132;01m{\u001b[39;00m\u001b[38;5;28mlist\u001b[39m(ogs_info_df[\u001b[38;5;124m'\u001b[39m\u001b[38;5;124mlevel name\u001b[39m\u001b[38;5;124m'\u001b[39m]\u001b[38;5;241m.\u001b[39munique())\u001b[38;5;132;01m}\u001b[39;00m\u001b[38;5;124m\"\u001b[39m\n\u001b[1;32m     90\u001b[0m     )\n\u001b[1;32m     91\u001b[0m \u001b[38;5;28;01mif\u001b[39;00m \u001b[38;5;28mlen\u001b[39m(selected_OG_info_df) \u001b[38;5;241m>\u001b[39m \u001b[38;5;241m1\u001b[39m:\n\u001b[1;32m     92\u001b[0m     \u001b[38;5;28;01mraise\u001b[39;00m \u001b[38;5;167;01mValueError\u001b[39;00m(\n\u001b[1;32m     93\u001b[0m         \u001b[38;5;124mf\u001b[39m\u001b[38;5;124m\"\u001b[39m\u001b[38;5;124mMultiple OGs found for \u001b[39m\u001b[38;5;132;01m{\u001b[39;00modb_gene_id\u001b[38;5;132;01m}\u001b[39;00m\u001b[38;5;124m with level name `\u001b[39m\u001b[38;5;132;01m{\u001b[39;00mlevel_name\u001b[38;5;132;01m}\u001b[39;00m\u001b[38;5;124m`. duplicate OGs: \u001b[39m\u001b[38;5;132;01m{\u001b[39;00mselected_OG_info_df\u001b[38;5;132;01m}\u001b[39;00m\u001b[38;5;124m\"\u001b[39m\n\u001b[1;32m     94\u001b[0m     )\n",
      "\u001b[0;31mValueError\u001b[0m: No OGs found for 9606_0:002f40 with level name `Bacteria`. available levels are: ['Hominidae', 'Hominoidea', 'Primates', 'Euarchontoglires', 'Eutheria', 'Mammalia', 'Tetrapoda', 'Vertebrata', 'Metazoa', 'Eukaryota']"
     ]
    }
   ],
   "source": [
    "# if we provide a level name that isn't found in the database, we get an error\n",
    "db_queries.select_OG_by_level_name(odb_gene_id=odb_gene_id, level_name='Bacteria')"
   ]
  },
  {
   "cell_type": "markdown",
   "metadata": {},
   "source": [
    "## Get the sequences in the group"
   ]
  },
  {
   "cell_type": "code",
   "execution_count": 8,
   "metadata": {},
   "outputs": [],
   "source": [
    "group_members = sql_queries.ogid_2_odb_gene_id_list(ogid)\n",
    "sequence_dict = env.odb_database.get_sequences_from_list_of_seq_ids(group_members)\n",
    "query_seqrecord = sequence_dict[odb_gene_id]\n",
    "min_length = min_fraction_of_query_length * len(query_seqrecord)"
   ]
  },
  {
   "cell_type": "code",
   "execution_count": 9,
   "metadata": {},
   "outputs": [
    {
     "name": "stdout",
     "output_type": "stream",
     "text": [
      "ID: 9606_0:002f40\n",
      "Name: 9606_0:002f40\n",
      "Description: 9606_0:002f40\t9606_0\n",
      "Number of features: 0\n",
      "Seq('MTQTLDTREDPLNLGGGGGGGCGCGWAHSASLSSWSSCHRRRPGAPAYNRPHRY...FNC')\n"
     ]
    }
   ],
   "source": [
    "print(query_seqrecord)"
   ]
  },
  {
   "cell_type": "markdown",
   "metadata": {},
   "source": [
    "# 4. filter out sequences that are too short or contain non amino acid characters"
   ]
  },
  {
   "cell_type": "code",
   "execution_count": 10,
   "metadata": {},
   "outputs": [
    {
     "name": "stdout",
     "output_type": "stream",
     "text": [
      "349\n",
      "336\n",
      "308\n"
     ]
    }
   ],
   "source": [
    "import local_orthoDB_group_tools.filters as filters\n",
    "print(len(sequence_dict))\n",
    "filtered_sequence_dict = filters.filter_seqs_with_nonaa_chars(\n",
    "    sequence_dict,\n",
    ")\n",
    "print(len(filtered_sequence_dict))\n",
    "filtered_sequence_dict = filters.filter_shorter_sequences(\n",
    "    filtered_sequence_dict,\n",
    "    min_length=min_length,\n",
    ")\n",
    "if query_seqrecord.id not in filtered_sequence_dict:\n",
    "    filtered_sequence_dict[query_seqrecord.id] = copy.deepcopy(query_seqrecord)\n",
    "\n",
    "print(len(filtered_sequence_dict))"
   ]
  },
  {
   "cell_type": "markdown",
   "metadata": {},
   "source": [
    "# 5. find least divergent orthologs (LDOs)"
   ]
  },
  {
   "cell_type": "code",
   "execution_count": 11,
   "metadata": {},
   "outputs": [],
   "source": [
    "import local_orthoDB_group_tools.find_LDOs as find_LDOs"
   ]
  },
  {
   "cell_type": "code",
   "execution_count": 15,
   "metadata": {},
   "outputs": [
    {
     "name": "stdout",
     "output_type": "stream",
     "text": [
      "comparing sequences using alignment free comparison (alfpy google distance)\n"
     ]
    }
   ],
   "source": [
    "pid_df, ldos = find_LDOs.find_LDOs_main(\n",
    "    seqrecord_dict=filtered_sequence_dict,\n",
    "    query_seqrecord=query_seqrecord,\n",
    "    pid_method = LDO_selection_method,\n",
    ")"
   ]
  },
  {
   "cell_type": "code",
   "execution_count": 19,
   "metadata": {},
   "outputs": [
    {
     "data": {
      "text/html": [
       "<div>\n",
       "<style scoped>\n",
       "    .dataframe tbody tr th:only-of-type {\n",
       "        vertical-align: middle;\n",
       "    }\n",
       "\n",
       "    .dataframe tbody tr th {\n",
       "        vertical-align: top;\n",
       "    }\n",
       "\n",
       "    .dataframe thead th {\n",
       "        text-align: right;\n",
       "    }\n",
       "</style>\n",
       "<table border=\"1\" class=\"dataframe\">\n",
       "  <thead>\n",
       "    <tr style=\"text-align: right;\">\n",
       "      <th></th>\n",
       "      <th>id</th>\n",
       "      <th>organism</th>\n",
       "      <th>PID</th>\n",
       "    </tr>\n",
       "  </thead>\n",
       "  <tbody>\n",
       "    <tr>\n",
       "      <th>0</th>\n",
       "      <td>10020_0:000423</td>\n",
       "      <td>10020_0</td>\n",
       "      <td>0.662710</td>\n",
       "    </tr>\n",
       "    <tr>\n",
       "      <th>1</th>\n",
       "      <td>10029_0:0001d8</td>\n",
       "      <td>10029_0</td>\n",
       "      <td>0.651964</td>\n",
       "    </tr>\n",
       "    <tr>\n",
       "      <th>2</th>\n",
       "      <td>10036_0:002a79</td>\n",
       "      <td>10036_0</td>\n",
       "      <td>0.661279</td>\n",
       "    </tr>\n",
       "    <tr>\n",
       "      <th>3</th>\n",
       "      <td>10041_0:003b55</td>\n",
       "      <td>10041_0</td>\n",
       "      <td>0.659235</td>\n",
       "    </tr>\n",
       "    <tr>\n",
       "      <th>4</th>\n",
       "      <td>10047_0:00520a</td>\n",
       "      <td>10047_0</td>\n",
       "      <td>0.644568</td>\n",
       "    </tr>\n",
       "    <tr>\n",
       "      <th>...</th>\n",
       "      <td>...</td>\n",
       "      <td>...</td>\n",
       "      <td>...</td>\n",
       "    </tr>\n",
       "    <tr>\n",
       "      <th>303</th>\n",
       "      <td>9978_0:000a44</td>\n",
       "      <td>9978_0</td>\n",
       "      <td>0.618854</td>\n",
       "    </tr>\n",
       "    <tr>\n",
       "      <th>304</th>\n",
       "      <td>9986_0:000f1c</td>\n",
       "      <td>9986_0</td>\n",
       "      <td>0.671115</td>\n",
       "    </tr>\n",
       "    <tr>\n",
       "      <th>305</th>\n",
       "      <td>9994_0:0002f8</td>\n",
       "      <td>9994_0</td>\n",
       "      <td>0.696887</td>\n",
       "    </tr>\n",
       "    <tr>\n",
       "      <th>306</th>\n",
       "      <td>9995_0:0035ea</td>\n",
       "      <td>9995_0</td>\n",
       "      <td>0.701641</td>\n",
       "    </tr>\n",
       "    <tr>\n",
       "      <th>307</th>\n",
       "      <td>9999_0:000312</td>\n",
       "      <td>9999_0</td>\n",
       "      <td>0.705574</td>\n",
       "    </tr>\n",
       "  </tbody>\n",
       "</table>\n",
       "<p>308 rows × 3 columns</p>\n",
       "</div>"
      ],
      "text/plain": [
       "                 id organism       PID\n",
       "0    10020_0:000423  10020_0  0.662710\n",
       "1    10029_0:0001d8  10029_0  0.651964\n",
       "2    10036_0:002a79  10036_0  0.661279\n",
       "3    10041_0:003b55  10041_0  0.659235\n",
       "4    10047_0:00520a  10047_0  0.644568\n",
       "..              ...      ...       ...\n",
       "303   9978_0:000a44   9978_0  0.618854\n",
       "304   9986_0:000f1c   9986_0  0.671115\n",
       "305   9994_0:0002f8   9994_0  0.696887\n",
       "306   9995_0:0035ea   9995_0  0.701641\n",
       "307   9999_0:000312   9999_0  0.705574\n",
       "\n",
       "[308 rows x 3 columns]"
      ]
     },
     "execution_count": 19,
     "metadata": {},
     "output_type": "execute_result"
    }
   ],
   "source": [
    "# sequence similarity matrix\n",
    "pid_df.drop(columns=['sequence'])"
   ]
  },
  {
   "cell_type": "code",
   "execution_count": 16,
   "metadata": {},
   "outputs": [],
   "source": [
    "ldo_seqrecord_dict = env.odb_database.get_sequences_from_list_of_seq_ids(ldos)"
   ]
  },
  {
   "cell_type": "code",
   "execution_count": 17,
   "metadata": {},
   "outputs": [
    {
     "name": "stdout",
     "output_type": "stream",
     "text": [
      "308\n",
      "295\n"
     ]
    }
   ],
   "source": [
    "print(len(filtered_sequence_dict))\n",
    "print(len(ldos))"
   ]
  },
  {
   "cell_type": "markdown",
   "metadata": {},
   "source": [
    "# 6. cluster the LDOs using CD-HIT"
   ]
  },
  {
   "cell_type": "code",
   "execution_count": 108,
   "metadata": {},
   "outputs": [],
   "source": [
    "import local_orthoDB_group_tools.cluster as cluster"
   ]
  },
  {
   "cell_type": "code",
   "execution_count": 109,
   "metadata": {},
   "outputs": [
    {
     "name": "stdout",
     "output_type": "stream",
     "text": [
      "================================================================\n",
      "Program: CD-HIT, V4.8.1, Aug 07 2022, 07:05:53\n",
      "Command: /Users/jackson/mambaforge/envs/cd_hit_x86/bin/cd-hit\n",
      "         -i\n",
      "         /var/folders/q4/k476_qrd3jvdvzwd6lq30kqc0000gn/T/tmpmiwj6i9l\n",
      "         -o\n",
      "         /var/folders/q4/k476_qrd3jvdvzwd6lq30kqc0000gn/T/tmpmiwj6i9l-cdhit.fa\n",
      "         -M 0 -d 0\n",
      "\n",
      "Started: Thu Dec 28 18:46:18 2023\n",
      "================================================================\n",
      "                            Output                              \n",
      "----------------------------------------------------------------\n",
      "total seq: 295\n",
      "longest and shortest : 554 and 203\n",
      "Total letters: 97034\n",
      "Sequences have been sorted\n",
      "\n",
      "Approximated minimal memory consumption:\n",
      "Sequence        : 0M\n",
      "Buffer          : 1 X 16M = 16M\n",
      "Table           : 1 X 65M = 65M\n",
      "Miscellaneous   : 0M\n",
      "Total           : 81M\n",
      "\n",
      "Table limit with the given memory limit:\n",
      "Max number of representatives: 4000000\n",
      "Max number of word counting entries: 249777000\n",
      "\n",
      "comparing sequences from          0  to        295\n",
      "\n",
      "      295  finished        143  clusters\n",
      "\n",
      "Approximated maximum memory consumption: 81M\n",
      "writing new database\n",
      "writing clustering information\n",
      "program completed !\n",
      "\n",
      "Total CPU time 0.06\n",
      "found keyword in Cluster 38\n"
     ]
    }
   ],
   "source": [
    "clustered_ldo_seqrec_dict = cluster.cdhit_main(ldo_seqrecord_dict, query_seqrecord)"
   ]
  },
  {
   "cell_type": "code",
   "execution_count": 110,
   "metadata": {},
   "outputs": [
    {
     "name": "stdout",
     "output_type": "stream",
     "text": [
      "143\n"
     ]
    }
   ],
   "source": [
    "print(len(clustered_ldo_seqrec_dict))"
   ]
  },
  {
   "cell_type": "markdown",
   "metadata": {},
   "source": [
    "# 7. align the clustered sequences"
   ]
  },
  {
   "cell_type": "code",
   "execution_count": 111,
   "metadata": {},
   "outputs": [],
   "source": [
    "import local_seqtools.cli_wrappers as cli_wrappers"
   ]
  },
  {
   "cell_type": "code",
   "execution_count": 115,
   "metadata": {},
   "outputs": [],
   "source": [
    "aln = cli_wrappers.mafft_align_wrapper(\n",
    "    list(clustered_ldo_seqrec_dict.values()),\n",
    "    output_type='alignment',\n",
    "    n_align_threads=8,\n",
    ")"
   ]
  },
  {
   "cell_type": "code",
   "execution_count": 122,
   "metadata": {},
   "outputs": [
    {
     "name": "stdout",
     "output_type": "stream",
     "text": [
      "Alignment with 50 rows and 45 columns\n",
      "-----------ASPSPLPPWSPCH------------------RRR 38626_0:002d6b\n",
      "-----------ASPSSLPPWSPCH------------------RRR 9337_0:0036f4\n",
      "-----------ASPSPLPPWSPCH------------------RRR 191870_0:004228\n",
      "-----------ASPSPLPPWSPCH------------------RRR 13616_0:004984\n",
      "-----------ASPSPLPPWSPCH------------------RRR 29139_0:004c06\n",
      "-----------ASPSPLPPWSPCH------------------RRR 33562_0:00480c\n",
      "-----------SSPAAGPPPGACHG-----------------RGR 9258_0:002c95\n",
      "-----------APPAPLRTWSTCH------------------RRR 286419_0:002935\n",
      "-----------SSSAPLGTWSSCR------------------RRR 34839_0:00034e\n",
      "-----------ASSAPLGTWSTCH------------------RRR 36723_0:001c9a\n",
      "-----------ASSAGLGTWSSCP------------------RRR 143302_0:000941\n",
      "-----------SSSVPLRTWSSYH------------------RRR 105255_0:002d50\n",
      "-----------ATSAPLRTSYTCH------------------RRR 9662_0:001c88\n",
      "-----------APPAPLRTWSTCH------------------RRR 494514_0:004bb3\n",
      "-----------ASPSALPPWSPCH------------------RRR 9305_0:00441e\n",
      "-----------ASSAPLGTWSSWH------------------RRR 9691_0:000e78\n",
      "-----------ASSARLRNWSSCH------------------RRR 127582_0:00327f\n",
      "-----------SSSAPLGTWSSCR------------------RRR 10160_0:00029d\n",
      "...\n",
      "-----------ASSLPLHTWSSYH------------------RRQ 10047_0:00520a\n"
     ]
    }
   ],
   "source": [
    "print(aln[0:50, 175:220])"
   ]
  },
  {
   "cell_type": "code",
   "execution_count": null,
   "metadata": {},
   "outputs": [],
   "source": []
  },
  {
   "cell_type": "markdown",
   "metadata": {},
   "source": [
    "# putting it all together"
   ]
  },
  {
   "cell_type": "code",
   "execution_count": 2,
   "metadata": {},
   "outputs": [
    {
     "name": "stdout",
     "output_type": "stream",
     "text": [
      "comparing sequences using alignment free comparison (alfpy google distance)\n",
      "================================================================\n",
      "Program: CD-HIT, V4.8.1, May 15 2023, 22:26:50\n",
      "Command: cd-hit -i\n",
      "         /var/folders/q4/k476_qrd3jvdvzwd6lq30kqc0000gn/T/tmpzk1uay7j\n",
      "         -o\n",
      "         /var/folders/q4/k476_qrd3jvdvzwd6lq30kqc0000gn/T/tmpzk1uay7j-cdhit.fa\n",
      "         -M 0 -d 0\n",
      "\n",
      "Started: Thu Dec 28 22:14:32 2023\n",
      "================================================================\n",
      "                            Output                              \n",
      "----------------------------------------------------------------\n",
      "total seq: 295\n",
      "longest and shortest : 554 and 203\n",
      "Total letters: 97034\n",
      "Sequences have been sorted\n",
      "\n",
      "Approximated minimal memory consumption:\n",
      "Sequence        : 0M\n",
      "Buffer          : 1 X 16M = 16M\n",
      "Table           : 1 X 65M = 65M\n",
      "Miscellaneous   : 0M\n",
      "Total           : 81M\n",
      "\n",
      "Table limit with the given memory limit:\n",
      "Max number of representatives: 4000000\n",
      "Max number of word counting entries: 249777000\n",
      "\n",
      "comparing sequences from          0  to        295\n",
      "\n",
      "      295  finished        143  clusters\n",
      "\n",
      "Approximated maximum memory consumption: 81M\n",
      "writing new database\n",
      "writing clustering information\n",
      "program completed !\n",
      "\n",
      "Total CPU time 0.07\n",
      "found keyword in Cluster 38\n"
     ]
    }
   ],
   "source": [
    "import local_env_variables.env_variables as env\n",
    "from local_orthoDB_group_tools import (sql_queries, filters, uniprotid_search, database_queries, cluster, find_LDOs)\n",
    "\n",
    "min_fraction_of_query_length = 0.5\n",
    "level='Vertebrata'\n",
    "LDO_selection_method = 'alfpy_google_distance'\n",
    "\n",
    "uniprot_id = 'Q8TC90'\n",
    "odb_gene_id = uniprotid_search.uniprotid_2_odb_gene_id(uniprot_id)\n",
    "ogid = database_queries.select_OG_by_level_name(odb_gene_id=odb_gene_id, level_name='Vertebrata')\n",
    "group_members = sql_queries.ogid_2_odb_gene_id_list(ogid)\n",
    "sequence_dict = env.odb_database.get_sequences_from_list_of_seq_ids(group_members)\n",
    "query_seqrecord = sequence_dict[odb_gene_id]\n",
    "min_length = min_fraction_of_query_length * len(query_seqrecord)\n",
    "filtered_sequence_dict = filters.filter_seqs_with_nonaa_chars(\n",
    "    sequence_dict,\n",
    ")\n",
    "filtered_sequence_dict = filters.filter_shorter_sequences(\n",
    "    filtered_sequence_dict,\n",
    "    min_length=min_length,\n",
    ")\n",
    "if query_seqrecord.id not in filtered_sequence_dict:\n",
    "    filtered_sequence_dict[query_seqrecord.id] = copy.deepcopy(query_seqrecord)\n",
    "pid_df, ldos = find_LDOs.find_LDOs_main(\n",
    "    seqrecord_dict=filtered_sequence_dict,\n",
    "    query_seqrecord=query_seqrecord,\n",
    "    pid_method = LDO_selection_method,\n",
    ")\n",
    "ldo_seqrecord_dict = env.odb_database.get_sequences_from_list_of_seq_ids(ldos)\n",
    "clustered_ldo_seqrec_dict = cluster.cdhit_main(ldo_seqrecord_dict, query_seqrecord)"
   ]
  },
  {
   "cell_type": "code",
   "execution_count": null,
   "metadata": {},
   "outputs": [],
   "source": []
  }
 ],
 "metadata": {
  "kernelspec": {
   "display_name": "odb_groups_x86",
   "language": "python",
   "name": "python3"
  },
  "language_info": {
   "codemirror_mode": {
    "name": "ipython",
    "version": 3
   },
   "file_extension": ".py",
   "mimetype": "text/x-python",
   "name": "python",
   "nbconvert_exporter": "python",
   "pygments_lexer": "ipython3",
   "version": "3.12.0"
  }
 },
 "nbformat": 4,
 "nbformat_minor": 2
}
